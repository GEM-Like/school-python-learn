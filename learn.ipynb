{
 "cells": [
  {
   "metadata": {},
   "cell_type": "markdown",
   "source": "### 用四个字符作为缩进-层次",
   "id": "fe4fd114df98cd67"
  },
  {
   "metadata": {},
   "cell_type": "markdown",
   "source": [
    "## 换行\n",
    "### 换行代表语句结束，分号也可以进行结束，换行符“\\n”\n",
    "### 语句太长可以换行，(有括号代表一个元组),没有括号需要在首行行尾添加反斜杠"
   ],
   "id": "a485bb5e359f7269"
  },
  {
   "metadata": {
    "ExecuteTime": {
     "end_time": "2025-05-28T01:53:48.062462Z",
     "start_time": "2025-05-28T01:53:48.054465Z"
    }
   },
   "cell_type": "code",
   "source": [
    "s = 'sfsfsrfsfv\\\n",
    "    srsfsrfesfv'"
   ],
   "id": "9bccda14b00ee051",
   "outputs": [],
   "execution_count": 1
  },
  {
   "metadata": {},
   "cell_type": "markdown",
   "source": "## 编码规范.jpg",
   "id": "c26d6771170fb3a3"
  },
  {
   "metadata": {},
   "cell_type": "markdown",
   "source": "## 标识符规则",
   "id": "3cca6808ef47e95a"
  },
  {
   "metadata": {},
   "cell_type": "markdown",
   "source": "### 标识符命名规则.jpg",
   "id": "95818e7d96314acf"
  },
  {
   "metadata": {},
   "cell_type": "markdown",
   "source": [
    "### 1. 小写字母和下划线\n",
    "通常用于变量名和函数名，例如my_variable、calculate_sum()。\n",
    "\n",
    "### 2. 大写字母和下划线\n",
    "也称为“蛇形命名法”（snake_case），常用于模块和包名，例如math_operations。\n",
    "\n",
    "### 3. 大驼峰命名法（PascalCase）\n",
    "每个单词的首字母都大写，其余字母小写，且单词之间不使用任何分隔符。常用于定义类名、接口名、常量等，例如MyClass。\n",
    "\n",
    "### 4. 小驼峰命名法（Camel Case）\n",
    "第一个单词的首字母小写，后续单词的首字母大写，其余字母小写，单词之间同样不使用分隔符。常用于变量名、函数名等，例如myClass。"
   ],
   "id": "9157baa27b448a0f"
  },
  {
   "metadata": {
    "ExecuteTime": {
     "end_time": "2025-05-21T02:54:55.391249Z",
     "start_time": "2025-05-21T02:54:55.378713Z"
    }
   },
   "cell_type": "code",
   "source": [
    "\"\"\"查看保留字符\"\"\"\n",
    "import keyword\n",
    "print(keyword.kwlist)"
   ],
   "id": "2dd7244288cea3d",
   "outputs": [
    {
     "name": "stdout",
     "output_type": "stream",
     "text": [
      "['False', 'None', 'True', '__peg_parser__', 'and', 'as', 'assert', 'async', 'await', 'break', 'class', 'continue', 'def', 'del', 'elif', 'else', 'except', 'finally', 'for', 'from', 'global', 'if', 'import', 'in', 'is', 'lambda', 'nonlocal', 'not', 'or', 'pass', 'raise', 'return', 'try', 'while', 'with', 'yield']\n"
     ]
    }
   ],
   "execution_count": 3
  },
  {
   "metadata": {},
   "cell_type": "markdown",
   "source": [
    "变量用来标识内存单元中储存的数据（内存地址）\n",
    "\n",
    "命名使用小写字母加上下划线\n",
    "\n",
    "常量使用全部大写"
   ],
   "id": "6a9f5a10bfefcca7"
  },
  {
   "metadata": {},
   "cell_type": "markdown",
   "source": "### 数据类型.jpg",
   "id": "be4b5587e3b9e020"
  },
  {
   "metadata": {},
   "cell_type": "markdown",
   "source": "### 字符串",
   "id": "c2be013af1045340"
  },
  {
   "metadata": {},
   "cell_type": "markdown",
   "source": [
    "#### 1、从零开始\n",
    "#### 2、可以支持负数，最右侧索引值是-1\n",
    "#### 3、字串：<string>[start:end]\n",
    "#### 4、字符串处理方法.jpg"
   ],
   "id": "21178898ac867cc9"
  },
  {
   "metadata": {},
   "cell_type": "markdown",
   "source": [
    "type():判断数据类型\n",
    "\n",
    "数据转换.jpg"
   ],
   "id": "b34191b28ac87107"
  },
  {
   "metadata": {},
   "cell_type": "markdown",
   "source": "#### python特有的运算符：“**”表示幂乘，“//”表示整除",
   "id": "911a42a58ea3771"
  },
  {
   "metadata": {
    "ExecuteTime": {
     "end_time": "2025-06-04T02:15:06.987620Z",
     "start_time": "2025-06-04T02:15:06.971303Z"
    }
   },
   "cell_type": "code",
   "source": [
    "while True:\n",
    "    print(\"死循环\")\n",
    "    break"
   ],
   "id": "12102349e66397d1",
   "outputs": [
    {
     "name": "stdout",
     "output_type": "stream",
     "text": [
      "死循环\n"
     ]
    }
   ],
   "execution_count": 2
  },
  {
   "metadata": {},
   "cell_type": "markdown",
   "source": [
    "## 字符串使用\n",
    "str[start : end : step]第三个参数是步长\n",
    "#### %d是占位符\n",
    "    s1=\"%d\"%num\n",
    "#### str.format():\n",
    "    str=\"{1}and{0}\"\n",
    "    str.format(name,age)   \\\\插入参数（按照0、1、2、、、索引插入，默认顺位）\n",
    "   ##### 使用命名参数:\"{name} scored {score} in the test.\".format(name=\"Alice\", score=95)\n",
    "   ##### 格式控制（数字、对齐、填充）:\n",
    "        \"{:.2f}\".format(3.14159)  # 保留两位小数\n",
    "        \"{:06d}\".format(42)  # 整数前补0，宽度为6\n",
    "        \"{:<10}\".format(\"left\")    # 左对齐\n",
    "        \"{:^10}\".format(\"center\")  # 居中\n",
    "        \"{:>10}\".format(\"right\")   # 右对齐\n",
    "#### f-string方法：\n",
    "    print(f\"{name}and{age}\")\n",
    "    "
   ],
   "id": "5bc9eeccd4144b04"
  },
  {
   "metadata": {},
   "cell_type": "markdown",
   "source": [
    "## 字符串查找\n",
    "   #### find()方法：\n",
    "    str.find(sub[, start[, end]])\n",
    "    sub：要查找的子字符串；\n",
    "    start（可选）：搜索的起始位置；\n",
    "    end（可选）：搜索的结束位置。\n",
    "    rfind()（从右开始找）\n",
    "   #### replace():\n",
    "    str.replace(old, new[, count])\n",
    "    old：要被替换的旧子字符串；\n",
    "    new：替换成的新子字符串；\n",
    "    count（可选）：替换的次数（默认替换所有匹配项）。\n",
    "    需要赋值\n",
    "   #### split():\n",
    "    str.split(sep=None, maxsplit=-1)\n",
    "    sep：分隔符（可选，默认是任意空白字符，如空格、Tab、换行）；\n",
    "    maxsplit：最多分割多少次，默认 -1 表示无限次。\n",
    "   #### join()\n",
    "    \"分隔符\".join(可迭代对象)\n",
    "        示例：\n",
    "            words = [\"apple\", \"banana\", \"cherry\"]\n",
    "            result = \", \".join(words)\n",
    "            print(result)\n",
    "            # 输出：apple, banana, cherry\n",
    "   #### \\r:\n",
    "    \\r：回车（carriage return）→ 光标回到本行开头，但不换行\n",
    "   #### 文本进度条\n",
    "   #### 敏感词\n",
    "\n",
    "\n",
    "\n",
    "    "
   ],
   "id": "9bc27253f002eb7b"
  }
 ],
 "metadata": {
  "kernelspec": {
   "display_name": "Python 3",
   "language": "python",
   "name": "python3"
  },
  "language_info": {
   "codemirror_mode": {
    "name": "ipython",
    "version": 2
   },
   "file_extension": ".py",
   "mimetype": "text/x-python",
   "name": "python",
   "nbconvert_exporter": "python",
   "pygments_lexer": "ipython2",
   "version": "2.7.6"
  }
 },
 "nbformat": 4,
 "nbformat_minor": 5
}
